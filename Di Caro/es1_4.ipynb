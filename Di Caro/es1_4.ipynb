{
 "cells": [
  {
   "cell_type": "markdown",
   "id": "5650e1ff",
   "metadata": {},
   "source": [
    "## Esercizio 1.4\n",
    "\n",
    "Scegliamo come verbo transitivo per questa esercitazione: `eat`\n",
    "\n",
    "Il corpus `eat_corpus2.txt` presente nella cartella è stato costruito usando il sito di Sketch Engine.\n",
    "\n",
    "Si è scelto di usare il verbo eat perchè su diversi tentativi è quello che ha portato ad ottenere un maggior numero di frasi rilevanti\n",
    "\n",
    "Per l'esercitazione son stati costruiti altri corpus testabili: *eat_corpus, play_corpus, read_corpus*. Tuttavia si otteneva un numero di frasi rilevanti inferiore ai 1000. Per frasi rilevanti si considerano frasi da cui è possibile estrarre almeno una tripla Sog-Verbo-Ogg dove il verbo è *eat*\n",
    "La differenza tra i due corpus *eat* è legata al numero di frasi, il secondo contiene oltre 450k frasi, anche se molte prive di senso nel complesso permette di ottenere molti dati in più.\n",
    "\n",
    "Seguono una serie di metodi che saranno usati durante la fase di processing delle frasi, nella seguente sezione di codice si estraggono tutte le frasi dal corpus:"
   ]
  },
  {
   "cell_type": "code",
   "execution_count": 28,
   "id": "2f93ae9f",
   "metadata": {},
   "outputs": [],
   "source": [
    "import os\n",
    "import re\n",
    "\n",
    "input_verb = 'eat'\n",
    "\n",
    "str = open(os.getcwd()+'\\\\eat_corpus2.txt', 'r', encoding=\"utf8\").read()\n",
    "corpus_sents = re.findall(r'<p>(.*)</p>', str)"
   ]
  },
  {
   "cell_type": "markdown",
   "id": "c0783c7c",
   "metadata": {},
   "source": [
    "## Metodo: Extract SVO\n",
    "\n",
    "Il seguente metodo, data una frase in input, restituisce una lista di triple Soggetto - Verbo - Oggetto trovate in essa.\n",
    "\n",
    "Per questa fase si utilizza la libreria di spacy in fase di parsing e un modulo importato per l'estrazione delle triple.\n",
    "\n",
    "Per via dell'ambiguità delle frasi possono essere individuati più soggetti e oggetti quindi il metodo restituirà una lista."
   ]
  },
  {
   "cell_type": "code",
   "execution_count": 2,
   "id": "aea9d50c",
   "metadata": {},
   "outputs": [
    {
     "name": "stdout",
     "output_type": "stream",
     "text": [
      "[('dog', 'ate', 'disk')]\n"
     ]
    }
   ],
   "source": [
    "import spacy\n",
    "from subject_object_extraction import findSVOs\n",
    "nlp = spacy.load(\"en_core_web_sm\")\n",
    "\n",
    "def extract_svo(input_sentence):\n",
    "    doc = nlp(input_sentence)\n",
    "    return findSVOs(doc)\n",
    "\n",
    "# Example \n",
    "print(extract_svo(\"The dog ate a disk\"))\n",
    "    "
   ]
  },
  {
   "cell_type": "markdown",
   "id": "6b441e9e",
   "metadata": {},
   "source": [
    "## Word Sense Disambiguation\n",
    "\n",
    "Costruaimo un metodo per la disambugiazione automatica di una parola in ingresso data la frase in cui è usata.\n",
    "\n",
    "Per questa fase sarà utilizzato il disambiguatore delle librerie `nltk` che utilizza l'algoritmo di `Lesk`.\n",
    "\n",
    "Dal momento che si tratta di un parsing superficiale, per non perdere l'informazione delle frasi dove il soggetto o oggetto compare come pronome, si è scelto di semplificare impostando quei termini come tipo Persona:<br>\n",
    "In particolare usiamo una regex per identificarli nella parola in input e se si trova corrispondenza si restituisce il primo synset associato al termine \"bambino\" in quanto nella fase successiva, quando sarà estratto il supersense otterremo Persona."
   ]
  },
  {
   "cell_type": "code",
   "execution_count": 20,
   "id": "1f6afb60",
   "metadata": {},
   "outputs": [
    {
     "name": "stdout",
     "output_type": "stream",
     "text": [
      "Synset('apple.n.02')\n",
      "Synset('child.n.01')\n"
     ]
    }
   ],
   "source": [
    "import nltk\n",
    "from nltk.wsd import lesk\n",
    "from nltk.corpus import wordnet as wn\n",
    "prepositions = {'i', 'you', 'she', 'he', 'we', 'they'}\n",
    "\n",
    "def select_disambiguated_sense(word, sentence):\n",
    "    # Questo try serve perchè essendo un corpus generato automaticamente con grandi quantità di frasi possono capitarne\n",
    "    # alcune con caratteri particolari che generano errori con le regex (in particolare le parentesi () [])\n",
    "    #try:\n",
    "    if word.lower() in prepositions: #re.search(rf'\\s{word}\\s', prepositions, re.IGNORECASE):\n",
    "        return wn.synsets('kid')[0]\n",
    "    #except Exception as e:\n",
    "        #return None\n",
    "    return lesk(sentence, word, 'n')\n",
    "\n",
    "# Example\n",
    "print(select_disambiguated_sense('apple', 'The dog eat an apple'))\n",
    "print(select_disambiguated_sense('i', 'i eat an apple'))"
   ]
  },
  {
   "cell_type": "markdown",
   "id": "21bdaaf8",
   "metadata": {},
   "source": [
    "## Super sense extractor\n",
    "Il seguente metodo dati input dei synset di WordNet restituisce i super sensi tramite la chiamata `lexname()` sul synset in input\n"
   ]
  },
  {
   "cell_type": "code",
   "execution_count": 5,
   "id": "b7c3135f",
   "metadata": {},
   "outputs": [
    {
     "name": "stdout",
     "output_type": "stream",
     "text": [
      "['noun.food', 'noun.plant']\n",
      "noun.person\n"
     ]
    }
   ],
   "source": [
    "def supersense(synset):\n",
    "    return [s.lexname() for s in synset] if isinstance(synset, list) else synset.lexname()\n",
    "\n",
    "\n",
    "# Example\n",
    "print(supersense(wn.synsets('apple')))\n",
    "print(supersense(wn.synsets('kid')[0]))"
   ]
  },
  {
   "cell_type": "markdown",
   "id": "7cb47839",
   "metadata": {},
   "source": [
    "## The Big Boy\n",
    "\n",
    "Ora che abbiamo definito tutti i metodi necessari per la fase centrale costruiamo il principale.\n",
    "    \n",
    "Per ogni tripla SVO ottenuta mediante la chiamata `extract_svo`:\n",
    "        \n",
    "    Memoriziamo in variabili il lemma dei rispettivi Soggetto e Oggetto e lo stemma per il verbo. E' stato scelto di usare lo stemma per il verbo per trovare maggiori confronti ed evitare di perdere frasi rilevanti.\n",
    "\n",
    "    Disambiguiamo soggetto e oggetto. Nel caso in cui ottenessimo un risultato vuoto, quando WordNet non contiene un senso per la parola passata in input, useremmo il comando `continue` per saltare questa tripla in quanto non rilevante.\n",
    "        <br>Discorso analogo per le triple con un verbo diverso da `eat`\n",
    "\n",
    "    Una volta disambiguato estriamo i supersensi e aggiungiamo la tupla alla lista dei risultati che sarà restituita in output al termine."
   ]
  },
  {
   "cell_type": "code",
   "execution_count": 6,
   "id": "3f4a86a8",
   "metadata": {},
   "outputs": [
    {
     "data": {
      "text/plain": [
       "[('noun.substance', 'noun.plant')]"
      ]
     },
     "execution_count": 6,
     "metadata": {},
     "output_type": "execute_result"
    }
   ],
   "source": [
    "from nltk.stem import WordNetLemmatizer\n",
    "from nltk.stem import PorterStemmer\n",
    "ps = PorterStemmer()\n",
    "lm = WordNetLemmatizer()  \n",
    " \n",
    "\n",
    "def big_boy(sentence):\n",
    "    result_list = []\n",
    "    \n",
    "    for svo_triple in extract_svo(sentence):\n",
    "        subj = lm.lemmatize(svo_triple[0]) \n",
    "        verb = ps.stem(svo_triple[1])\n",
    "        obj = lm.lemmatize(svo_triple[2]) \n",
    "        \n",
    "        disambiguated_subj = select_disambiguated_sense(subj, sentence)\n",
    "        disambiguated_obj = select_disambiguated_sense(obj, sentence)\n",
    "        \n",
    "        if verb != input_verb: \n",
    "            #print(\"WRONG VERB\",verb)\n",
    "            continue\n",
    "        if disambiguated_subj is None or disambiguated_obj is None:\n",
    "            #print(sentence)\n",
    "            #print(\"NONE SVO: \", svo_triple)\n",
    "            continue\n",
    "            \n",
    "        sub_supersense = supersense(disambiguated_subj)\n",
    "        obj_supersense = supersense(disambiguated_obj)\n",
    "        \n",
    "        result_list.append((sub_supersense, obj_supersense))\n",
    "        \n",
    "        #print(svo_triple, \" -> \", (sub_supersense, obj_supersense))\n",
    "    return result_list\n",
    "    \n",
    "# Example\n",
    "big_boy(\"The kid eat an apple\")"
   ]
  },
  {
   "cell_type": "markdown",
   "id": "0d338314",
   "metadata": {},
   "source": [
    "## Risultati\n",
    "\n",
    "Per concludere aggreghiamo i risultati usando il metodo `Counter`sulla lista ordinando le tuple così da considerare insieme i casi *(a,b)* e *(b,a)*\n",
    "\n",
    "Ottenuto il risultato dei cluster con le rispettive frequenze stampiamo il valore e la percentuale sul totale dei cluster trovati."
   ]
  },
  {
   "cell_type": "code",
   "execution_count": 30,
   "id": "50caff0a",
   "metadata": {
    "scrolled": true
   },
   "outputs": [
    {
     "name": "stdout",
     "output_type": "stream",
     "text": [
      "Number of usefull sentence found on corpus:  1638\n",
      "Number of usefull triple found on corpus:  2185\n",
      "\n",
      "Result\n",
      "('noun.artifact', 'noun.person')   freq: 249    perc:  11.395881006864988\n",
      "('noun.food', 'noun.person')   freq: 212    perc:  9.702517162471395\n",
      "('noun.person', 'noun.person')   freq: 180    perc:  8.237986270022883\n",
      "('noun.person', 'noun.plant')   freq: 179    perc:  8.192219679633867\n",
      "('noun.animal', 'noun.person')   freq: 62    perc:  2.8375286041189933\n",
      "('noun.animal', 'noun.artifact')   freq: 61    perc:  2.7917620137299775\n",
      "('noun.group', 'noun.person')   freq: 60    perc:  2.745995423340961\n",
      "('noun.cognition', 'noun.person')   freq: 59    perc:  2.700228832951945\n",
      "('noun.animal', 'noun.plant')   freq: 52    perc:  2.379862700228833\n",
      "('noun.location', 'noun.person')   freq: 44    perc:  2.013729977116705\n",
      "('noun.group', 'noun.plant')   freq: 41    perc:  1.8764302059496567\n",
      "('noun.animal', 'noun.food')   freq: 41    perc:  1.8764302059496567\n",
      "('noun.cognition', 'noun.plant')   freq: 39    perc:  1.7848970251716247\n",
      "('noun.artifact', 'noun.artifact')   freq: 36    perc:  1.6475972540045767\n",
      "('noun.person', 'noun.quantity')   freq: 34    perc:  1.5560640732265447\n",
      "('noun.artifact', 'noun.cognition')   freq: 32    perc:  1.4645308924485128\n",
      "('noun.artifact', 'noun.plant')   freq: 31    perc:  1.4187643020594967\n",
      "('noun.artifact', 'noun.communication')   freq: 29    perc:  1.3272311212814645\n",
      "('noun.Tops', 'noun.person')   freq: 28    perc:  1.2814645308924484\n",
      "('noun.food', 'noun.group')   freq: 28    perc:  1.2814645308924484\n",
      "('noun.cognition', 'noun.food')   freq: 28    perc:  1.2814645308924484\n",
      "('noun.act', 'noun.person')   freq: 25    perc:  1.1441647597254003\n",
      "('noun.communication', 'noun.person')   freq: 25    perc:  1.1441647597254003\n",
      "('noun.person', 'noun.substance')   freq: 23    perc:  1.0526315789473684\n",
      "('noun.attribute', 'noun.person')   freq: 23    perc:  1.0526315789473684\n",
      "('noun.artifact', 'noun.food')   freq: 22    perc:  1.0068649885583525\n",
      "('noun.person', 'noun.state')   freq: 20    perc:  0.9153318077803204\n",
      "('noun.communication', 'noun.plant')   freq: 17    perc:  0.7780320366132724\n",
      "('noun.person', 'noun.time')   freq: 16    perc:  0.7322654462242564\n",
      "('noun.communication', 'noun.food')   freq: 16    perc:  0.7322654462242564\n",
      "('noun.person', 'noun.possession')   freq: 15    perc:  0.6864988558352403\n",
      "('noun.Tops', 'noun.artifact')   freq: 13    perc:  0.5949656750572082\n",
      "('noun.artifact', 'noun.group')   freq: 13    perc:  0.5949656750572082\n",
      "('noun.act', 'noun.animal')   freq: 12    perc:  0.5491990846681922\n",
      "('noun.Tops', 'noun.group')   freq: 10    perc:  0.4576659038901602\n",
      "('noun.cognition', 'noun.group')   freq: 10    perc:  0.4576659038901602\n",
      "('noun.act', 'noun.plant')   freq: 10    perc:  0.4576659038901602\n",
      "('noun.group', 'noun.group')   freq: 9    perc:  0.41189931350114417\n",
      "('noun.act', 'noun.food')   freq: 9    perc:  0.41189931350114417\n",
      "('noun.plant', 'noun.substance')   freq: 9    perc:  0.41189931350114417\n",
      "('noun.artifact', 'noun.possession')   freq: 9    perc:  0.41189931350114417\n",
      "('noun.Tops', 'noun.animal')   freq: 9    perc:  0.41189931350114417\n",
      "('noun.act', 'noun.artifact')   freq: 8    perc:  0.3661327231121282\n",
      "('noun.object', 'noun.person')   freq: 8    perc:  0.3661327231121282\n",
      "('noun.artifact', 'noun.location')   freq: 8    perc:  0.3661327231121282\n",
      "('noun.group', 'noun.location')   freq: 8    perc:  0.3661327231121282\n",
      "('noun.attribute', 'noun.plant')   freq: 8    perc:  0.3661327231121282\n",
      "('noun.artifact', 'noun.event')   freq: 8    perc:  0.3661327231121282\n",
      "('noun.artifact', 'noun.state')   freq: 8    perc:  0.3661327231121282\n",
      "('noun.animal', 'noun.animal')   freq: 8    perc:  0.3661327231121282\n",
      "('noun.Tops', 'noun.plant')   freq: 7    perc:  0.3203661327231121\n",
      "('noun.plant', 'noun.state')   freq: 7    perc:  0.3203661327231121\n",
      "('noun.food', 'noun.substance')   freq: 7    perc:  0.3203661327231121\n",
      "('noun.attribute', 'noun.food')   freq: 7    perc:  0.3203661327231121\n",
      "('noun.animal', 'noun.group')   freq: 6    perc:  0.2745995423340961\n",
      "('noun.artifact', 'noun.attribute')   freq: 6    perc:  0.2745995423340961\n",
      "('noun.cognition', 'noun.cognition')   freq: 6    perc:  0.2745995423340961\n",
      "('noun.person', 'noun.phenomenon')   freq: 6    perc:  0.2745995423340961\n",
      "('noun.animal', 'noun.cognition')   freq: 6    perc:  0.2745995423340961\n",
      "('noun.act', 'noun.cognition')   freq: 5    perc:  0.2288329519450801\n",
      "('noun.artifact', 'noun.substance')   freq: 5    perc:  0.2288329519450801\n",
      "('noun.group', 'noun.state')   freq: 5    perc:  0.2288329519450801\n",
      "('noun.Tops', 'noun.cognition')   freq: 5    perc:  0.2288329519450801\n",
      "('noun.food', 'noun.food')   freq: 5    perc:  0.2288329519450801\n",
      "('noun.artifact', 'noun.time')   freq: 5    perc:  0.2288329519450801\n",
      "('noun.group', 'noun.time')   freq: 5    perc:  0.2288329519450801\n",
      "('noun.act', 'noun.communication')   freq: 4    perc:  0.1830663615560641\n",
      "('noun.cognition', 'noun.communication')   freq: 4    perc:  0.1830663615560641\n",
      "('noun.body', 'noun.person')   freq: 4    perc:  0.1830663615560641\n",
      "('noun.event', 'noun.food')   freq: 4    perc:  0.1830663615560641\n",
      "('noun.communication', 'noun.group')   freq: 4    perc:  0.1830663615560641\n",
      "('noun.animal', 'noun.substance')   freq: 4    perc:  0.1830663615560641\n",
      "('noun.group', 'noun.substance')   freq: 4    perc:  0.1830663615560641\n",
      "('noun.animal', 'noun.quantity')   freq: 4    perc:  0.1830663615560641\n",
      "('noun.animal', 'noun.body')   freq: 4    perc:  0.1830663615560641\n",
      "('noun.plant', 'noun.possession')   freq: 4    perc:  0.1830663615560641\n",
      "('noun.event', 'noun.group')   freq: 4    perc:  0.1830663615560641\n",
      "('noun.person', 'noun.relation')   freq: 4    perc:  0.1830663615560641\n",
      "('noun.event', 'noun.person')   freq: 3    perc:  0.13729977116704806\n",
      "('noun.group', 'noun.possession')   freq: 3    perc:  0.13729977116704806\n",
      "('noun.food', 'noun.state')   freq: 3    perc:  0.13729977116704806\n",
      "('noun.Tops', 'noun.act')   freq: 3    perc:  0.13729977116704806\n",
      "('noun.Tops', 'noun.Tops')   freq: 3    perc:  0.13729977116704806\n",
      "('noun.plant', 'noun.relation')   freq: 3    perc:  0.13729977116704806\n",
      "('noun.food', 'noun.possession')   freq: 3    perc:  0.13729977116704806\n",
      "('noun.group', 'noun.phenomenon')   freq: 3    perc:  0.13729977116704806\n",
      "('noun.Tops', 'noun.food')   freq: 3    perc:  0.13729977116704806\n",
      "('noun.animal', 'noun.communication')   freq: 3    perc:  0.13729977116704806\n",
      "('noun.object', 'noun.time')   freq: 3    perc:  0.13729977116704806\n",
      "('noun.animal', 'noun.object')   freq: 3    perc:  0.13729977116704806\n",
      "('noun.location', 'noun.possession')   freq: 2    perc:  0.09153318077803205\n",
      "('noun.animal', 'noun.possession')   freq: 2    perc:  0.09153318077803205\n",
      "('noun.animal', 'noun.state')   freq: 2    perc:  0.09153318077803205\n",
      "('noun.quantity', 'noun.quantity')   freq: 2    perc:  0.09153318077803205\n",
      "('noun.artifact', 'noun.feeling')   freq: 2    perc:  0.09153318077803205\n",
      "('noun.act', 'noun.location')   freq: 2    perc:  0.09153318077803205\n",
      "('noun.attribute', 'noun.communication')   freq: 2    perc:  0.09153318077803205\n",
      "('noun.Tops', 'noun.attribute')   freq: 2    perc:  0.09153318077803205\n",
      "('noun.group', 'noun.quantity')   freq: 2    perc:  0.09153318077803205\n",
      "('noun.plant', 'noun.time')   freq: 2    perc:  0.09153318077803205\n",
      "('noun.cognition', 'noun.event')   freq: 2    perc:  0.09153318077803205\n",
      "('noun.cognition', 'noun.possession')   freq: 2    perc:  0.09153318077803205\n",
      "('noun.attribute', 'noun.location')   freq: 2    perc:  0.09153318077803205\n",
      "('noun.body', 'noun.plant')   freq: 2    perc:  0.09153318077803205\n",
      "('noun.food', 'noun.quantity')   freq: 2    perc:  0.09153318077803205\n",
      "('noun.act', 'noun.quantity')   freq: 2    perc:  0.09153318077803205\n",
      "('noun.artifact', 'noun.quantity')   freq: 2    perc:  0.09153318077803205\n",
      "('noun.food', 'noun.time')   freq: 2    perc:  0.09153318077803205\n",
      "('noun.time', 'noun.time')   freq: 2    perc:  0.09153318077803205\n",
      "('noun.attribute', 'noun.state')   freq: 2    perc:  0.09153318077803205\n",
      "('noun.Tops', 'noun.communication')   freq: 2    perc:  0.09153318077803205\n",
      "('noun.animal', 'noun.location')   freq: 2    perc:  0.09153318077803205\n",
      "('noun.Tops', 'noun.possession')   freq: 2    perc:  0.09153318077803205\n",
      "('noun.person', 'noun.process')   freq: 2    perc:  0.09153318077803205\n",
      "('noun.body', 'noun.food')   freq: 2    perc:  0.09153318077803205\n",
      "('noun.cognition', 'noun.state')   freq: 2    perc:  0.09153318077803205\n",
      "('noun.cognition', 'noun.location')   freq: 2    perc:  0.09153318077803205\n",
      "('noun.cognition', 'noun.substance')   freq: 2    perc:  0.09153318077803205\n",
      "('noun.attribute', 'noun.group')   freq: 2    perc:  0.09153318077803205\n",
      "('noun.attribute', 'noun.substance')   freq: 2    perc:  0.09153318077803205\n",
      "('noun.animal', 'noun.attribute')   freq: 2    perc:  0.09153318077803205\n",
      "('noun.feeling', 'noun.substance')   freq: 1    perc:  0.045766590389016024\n",
      "('noun.food', 'noun.process')   freq: 1    perc:  0.045766590389016024\n",
      "('noun.communication', 'noun.quantity')   freq: 1    perc:  0.045766590389016024\n",
      "('noun.cognition', 'noun.time')   freq: 1    perc:  0.045766590389016024\n",
      "('noun.feeling', 'noun.food')   freq: 1    perc:  0.045766590389016024\n",
      "('noun.act', 'noun.act')   freq: 1    perc:  0.045766590389016024\n",
      "('noun.act', 'noun.substance')   freq: 1    perc:  0.045766590389016024\n",
      "('noun.Tops', 'noun.relation')   freq: 1    perc:  0.045766590389016024\n",
      "('noun.body', 'noun.possession')   freq: 1    perc:  0.045766590389016024\n",
      "('noun.person', 'noun.shape')   freq: 1    perc:  0.045766590389016024\n",
      "('noun.location', 'noun.time')   freq: 1    perc:  0.045766590389016024\n",
      "('noun.body', 'noun.state')   freq: 1    perc:  0.045766590389016024\n",
      "('noun.animal', 'noun.process')   freq: 1    perc:  0.045766590389016024\n",
      "('noun.object', 'noun.plant')   freq: 1    perc:  0.045766590389016024\n",
      "('noun.communication', 'noun.communication')   freq: 1    perc:  0.045766590389016024\n",
      "('noun.Tops', 'noun.state')   freq: 1    perc:  0.045766590389016024\n",
      "('noun.Tops', 'noun.substance')   freq: 1    perc:  0.045766590389016024\n",
      "('noun.location', 'noun.substance')   freq: 1    perc:  0.045766590389016024\n",
      "('noun.communication', 'noun.substance')   freq: 1    perc:  0.045766590389016024\n",
      "('noun.feeling', 'noun.person')   freq: 1    perc:  0.045766590389016024\n",
      "('noun.act', 'noun.group')   freq: 1    perc:  0.045766590389016024\n",
      "('noun.state', 'noun.substance')   freq: 1    perc:  0.045766590389016024\n",
      "('noun.food', 'noun.location')   freq: 1    perc:  0.045766590389016024\n",
      "('noun.food', 'noun.plant')   freq: 1    perc:  0.045766590389016024\n",
      "('noun.artifact', 'noun.body')   freq: 1    perc:  0.045766590389016024\n",
      "('noun.attribute', 'noun.attribute')   freq: 1    perc:  0.045766590389016024\n",
      "('noun.act', 'noun.state')   freq: 1    perc:  0.045766590389016024\n",
      "('noun.communication', 'noun.phenomenon')   freq: 1    perc:  0.045766590389016024\n",
      "('noun.plant', 'noun.process')   freq: 1    perc:  0.045766590389016024\n",
      "('noun.quantity', 'noun.state')   freq: 1    perc:  0.045766590389016024\n",
      "('noun.plant', 'noun.quantity')   freq: 1    perc:  0.045766590389016024\n",
      "('noun.food', 'noun.phenomenon')   freq: 1    perc:  0.045766590389016024\n",
      "('noun.attribute', 'noun.body')   freq: 1    perc:  0.045766590389016024\n",
      "('noun.artifact', 'noun.relation')   freq: 1    perc:  0.045766590389016024\n",
      "('noun.communication', 'noun.state')   freq: 1    perc:  0.045766590389016024\n",
      "('noun.event', 'noun.substance')   freq: 1    perc:  0.045766590389016024\n",
      "('noun.animal', 'noun.event')   freq: 1    perc:  0.045766590389016024\n",
      "('noun.phenomenon', 'noun.substance')   freq: 1    perc:  0.045766590389016024\n",
      "('noun.Tops', 'noun.location')   freq: 1    perc:  0.045766590389016024\n",
      "('noun.artifact', 'noun.object')   freq: 1    perc:  0.045766590389016024\n",
      "('noun.cognition', 'noun.quantity')   freq: 1    perc:  0.045766590389016024\n",
      "('noun.feeling', 'noun.quantity')   freq: 1    perc:  0.045766590389016024\n"
     ]
    }
   ],
   "source": [
    "from collections import Counter\n",
    "import pprint\n",
    "result_list = []\n",
    "usefull_sentence = 0\n",
    "\n",
    "for sent in corpus_sents:\n",
    "    result = big_boy(sent)\n",
    "    # l'if serve per ignorare i casi in cui il metodo non trova cluster e restituisce la lista vuota\n",
    "    if result:\n",
    "        result_list += (result)\n",
    "        usefull_sentence += 1\n",
    "\n",
    "\n",
    "count = Counter(tuple(sorted(t)) for t in result_list)\n",
    "print(\"Number of usefull sentence found on corpus: \", usefull_sentence)\n",
    "print(\"Number of usefull triple found on corpus: \", len(result_list))\n",
    "print(\"\\nResult\")\n",
    "for c in count.most_common():\n",
    "    print(f'{c[0]}   freq: {c[1]}    perc: ', c[1]/len(result_list)*100)\n",
    "\n"
   ]
  },
  {
   "cell_type": "code",
   "execution_count": null,
   "id": "ce58de48",
   "metadata": {},
   "outputs": [],
   "source": []
  }
 ],
 "metadata": {
  "kernelspec": {
   "display_name": "Python 3",
   "language": "python",
   "name": "python3"
  },
  "language_info": {
   "codemirror_mode": {
    "name": "ipython",
    "version": 3
   },
   "file_extension": ".py",
   "mimetype": "text/x-python",
   "name": "python",
   "nbconvert_exporter": "python",
   "pygments_lexer": "ipython3",
   "version": "3.8.8"
  }
 },
 "nbformat": 4,
 "nbformat_minor": 5
}
