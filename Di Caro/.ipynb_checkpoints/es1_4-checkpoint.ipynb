{
 "cells": [
  {
   "cell_type": "markdown",
   "id": "5650e1ff",
   "metadata": {},
   "source": [
    "## Esercizio 1.4\n",
    "\n",
    "Scegliamo come verbo transitivo per questa esercitazione: `eat`\n",
    "\n",
    "Il corpus usato per estrarre automaticamente 1000 frasi è il corpus Brown in Nlkt"
   ]
  },
  {
   "cell_type": "code",
   "execution_count": 52,
   "id": "87c5d124",
   "metadata": {},
   "outputs": [
    {
     "name": "stdout",
     "output_type": "stream",
     "text": [
      "57\n"
     ]
    }
   ],
   "source": [
    "from nltk.corpus import brown\n",
    "import pprint\n",
    "import re\n",
    "\n",
    "verb = 'eat'\n",
    "\n",
    "brown_sents = brown.tagged_sents()\n",
    "# Dopo un controllo sul corpus è stato accurato che i verbi più di interesse son associati al tag VB\n",
    "brown_sents = [sent for sent in brown_sents if (verb,'VB') in sent]\n",
    "\n",
    "print(len(brown_sents))\n",
    "\n",
    "\n"
   ]
  },
  {
   "cell_type": "code",
   "execution_count": null,
   "id": "1835a22b",
   "metadata": {},
   "outputs": [],
   "source": []
  },
  {
   "cell_type": "code",
   "execution_count": 55,
   "id": "7a7d2030",
   "metadata": {},
   "outputs": [
    {
     "ename": "ModuleNotFoundError",
     "evalue": "No module named 'stanfordnlp'",
     "output_type": "error",
     "traceback": [
      "\u001b[1;31m---------------------------------------------------------------------------\u001b[0m",
      "\u001b[1;31mModuleNotFoundError\u001b[0m                       Traceback (most recent call last)",
      "\u001b[1;32m<ipython-input-55-3d3a40cc3d57>\u001b[0m in \u001b[0;36m<module>\u001b[1;34m\u001b[0m\n\u001b[1;32m----> 1\u001b[1;33m \u001b[1;32mimport\u001b[0m \u001b[0mstanfordnlp\u001b[0m\u001b[1;33m\u001b[0m\u001b[1;33m\u001b[0m\u001b[0m\n\u001b[0m\u001b[0;32m      2\u001b[0m \u001b[1;33m\u001b[0m\u001b[0m\n\u001b[0;32m      3\u001b[0m \u001b[0mstanfordnlp\u001b[0m\u001b[1;33m.\u001b[0m\u001b[0mdownload\u001b[0m\u001b[1;33m(\u001b[0m\u001b[1;34m'en'\u001b[0m\u001b[1;33m)\u001b[0m\u001b[1;33m\u001b[0m\u001b[1;33m\u001b[0m\u001b[0m\n\u001b[0;32m      4\u001b[0m \u001b[1;33m\u001b[0m\u001b[0m\n\u001b[0;32m      5\u001b[0m \u001b[0mnlp\u001b[0m \u001b[1;33m=\u001b[0m \u001b[0mstanfordnlp\u001b[0m\u001b[1;33m.\u001b[0m\u001b[0mPipeline\u001b[0m\u001b[1;33m(\u001b[0m\u001b[0mprocessors\u001b[0m \u001b[1;33m=\u001b[0m \u001b[1;34m\"tokenize,ssplit,pos,lemma,depparse,natlog,openie\"\u001b[0m\u001b[1;33m)\u001b[0m\u001b[1;33m\u001b[0m\u001b[1;33m\u001b[0m\u001b[0m\n",
      "\u001b[1;31mModuleNotFoundError\u001b[0m: No module named 'stanfordnlp'"
     ]
    }
   ],
   "source": [
    "import stanfordnlp\n",
    "\n",
    "stanfordnlp.download('en')\n",
    "\n",
    "nlp = stanfordnlp.Pipeline(processors = \"tokenize,ssplit,pos,lemma,depparse,natlog,openie\")"
   ]
  },
  {
   "cell_type": "code",
   "execution_count": null,
   "id": "e84522c5",
   "metadata": {},
   "outputs": [],
   "source": []
  }
 ],
 "metadata": {
  "kernelspec": {
   "display_name": "Python 3",
   "language": "python",
   "name": "python3"
  },
  "language_info": {
   "codemirror_mode": {
    "name": "ipython",
    "version": 3
   },
   "file_extension": ".py",
   "mimetype": "text/x-python",
   "name": "python",
   "nbconvert_exporter": "python",
   "pygments_lexer": "ipython3",
   "version": "3.8.8"
  }
 },
 "nbformat": 4,
 "nbformat_minor": 5
}
