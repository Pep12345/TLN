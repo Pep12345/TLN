{
 "cells": [
  {
   "cell_type": "markdown",
   "id": "6669014d",
   "metadata": {},
   "source": [
    "## Metodo: Extract SVO\n",
    "\n",
    "Il seguente metodo, data una frase in input, restituisce una lista di triple Soggetto - Verbo - Oggetto trovate in essa.\n",
    "\n",
    "Per questa fase si utilizza la libreria di spacy in fase di parsing e un modulo importato per l'estrazione delle triple.\n",
    "\n",
    "Per via dell'ambiguità delle frasi possono essere individuati più soggetti e oggetti quindi il metodo restituirà una lista."
   ]
  },
  {
   "cell_type": "code",
   "execution_count": 1,
   "id": "c5d8cc08",
   "metadata": {},
   "outputs": [
    {
     "name": "stdout",
     "output_type": "stream",
     "text": [
      "[('dog', 'ate', 'disk')]\n"
     ]
    }
   ],
   "source": [
    "import spacy\n",
    "from subject_object_extraction import findSVOs\n",
    "nlp = spacy.load(\"en_core_web_sm\")\n",
    "\n",
    "def extract_svo(input_sentence):\n",
    "    doc = nlp(input_sentence)\n",
    "    return findSVOs(doc)\n",
    "\n",
    "# Example \n",
    "print(extract_svo(\"The dog ate a disk\"))"
   ]
  },
  {
   "cell_type": "code",
   "execution_count": null,
   "id": "aa249a0b",
   "metadata": {},
   "outputs": [],
   "source": [
    "- prendo testo, estraggo svo\n",
    "- per sogg/ogg cerco wn synset \n",
    "- aggiungo archi: tra elem stesso synset, tra elem synset e verbo\n",
    "    oppure per ogni synset inserisco synset e synset legati, poi collego sog a synset\n",
    "    idem per verbo\n",
    "infine cercare modo per visualizzare dati\n",
    "\n",
    "usare py2neo"
   ]
  }
 ],
 "metadata": {
  "kernelspec": {
   "display_name": "Python 3 (ipykernel)",
   "language": "python",
   "name": "python3"
  },
  "language_info": {
   "codemirror_mode": {
    "name": "ipython",
    "version": 3
   },
   "file_extension": ".py",
   "mimetype": "text/x-python",
   "name": "python",
   "nbconvert_exporter": "python",
   "pygments_lexer": "ipython3",
   "version": "3.8.8"
  }
 },
 "nbformat": 4,
 "nbformat_minor": 5
}
